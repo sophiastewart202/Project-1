{
 "cells": [
  {
   "cell_type": "code",
   "execution_count": 1,
   "id": "adbcbda4-6db7-4585-b0ec-aa85aae45073",
   "metadata": {},
   "outputs": [],
   "source": [
    "import pandas as pd\n",
    "import numpy as np"
   ]
  },
  {
   "cell_type": "code",
   "execution_count": 2,
   "id": "1eefe4f8-14ed-42d2-b166-f1f2750df8ba",
   "metadata": {},
   "outputs": [],
   "source": [
    "data_df = pd.read_csv(\"clean_data.csv\", low_memory = False, index_col = \"Unnamed: 0\")"
   ]
  },
  {
   "cell_type": "code",
   "execution_count": 3,
   "id": "631855b6-54bb-47f3-a957-9a58a07305cc",
   "metadata": {},
   "outputs": [
    {
     "data": {
      "text/html": [
       "<div>\n",
       "<style scoped>\n",
       "    .dataframe tbody tr th:only-of-type {\n",
       "        vertical-align: middle;\n",
       "    }\n",
       "\n",
       "    .dataframe tbody tr th {\n",
       "        vertical-align: top;\n",
       "    }\n",
       "\n",
       "    .dataframe thead th {\n",
       "        text-align: right;\n",
       "    }\n",
       "</style>\n",
       "<table border=\"1\" class=\"dataframe\">\n",
       "  <thead>\n",
       "    <tr style=\"text-align: right;\">\n",
       "      <th></th>\n",
       "      <th>VAERS_ID</th>\n",
       "      <th>RECVDATE</th>\n",
       "      <th>STATE</th>\n",
       "      <th>AGE_YRS</th>\n",
       "      <th>SEX</th>\n",
       "      <th>DIED</th>\n",
       "      <th>DATEDIED</th>\n",
       "      <th>L_THREAT</th>\n",
       "      <th>ER_VISIT</th>\n",
       "      <th>HOSPITAL</th>\n",
       "      <th>...</th>\n",
       "      <th>RECOVD</th>\n",
       "      <th>NUMDAYS</th>\n",
       "      <th>FORM_VERS</th>\n",
       "      <th>OFC_VISIT</th>\n",
       "      <th>ER_ED_VISIT</th>\n",
       "      <th>ALLERGIES</th>\n",
       "      <th>REPORT_DATE</th>\n",
       "      <th>VAX_TYPE</th>\n",
       "      <th>VAX_MANU</th>\n",
       "      <th>VAX_DOSE_SERIES</th>\n",
       "    </tr>\n",
       "  </thead>\n",
       "  <tbody>\n",
       "    <tr>\n",
       "      <th>211596</th>\n",
       "      <td>896636</td>\n",
       "      <td>11/14/2020</td>\n",
       "      <td>SC</td>\n",
       "      <td>47</td>\n",
       "      <td>F</td>\n",
       "      <td>NaN</td>\n",
       "      <td>NaN</td>\n",
       "      <td>NaN</td>\n",
       "      <td>NaN</td>\n",
       "      <td>NaN</td>\n",
       "      <td>...</td>\n",
       "      <td>N</td>\n",
       "      <td>4.0</td>\n",
       "      <td>2</td>\n",
       "      <td>Y</td>\n",
       "      <td>Y</td>\n",
       "      <td>tetracycline</td>\n",
       "      <td>11/14/2020</td>\n",
       "      <td>COVID19</td>\n",
       "      <td>MODERNA</td>\n",
       "      <td>UNK</td>\n",
       "    </tr>\n",
       "    <tr>\n",
       "      <th>214170</th>\n",
       "      <td>902418</td>\n",
       "      <td>12/15/2020</td>\n",
       "      <td>NJ</td>\n",
       "      <td>56</td>\n",
       "      <td>F</td>\n",
       "      <td>NaN</td>\n",
       "      <td>NaN</td>\n",
       "      <td>NaN</td>\n",
       "      <td>NaN</td>\n",
       "      <td>NaN</td>\n",
       "      <td>...</td>\n",
       "      <td>Y</td>\n",
       "      <td>0.0</td>\n",
       "      <td>2</td>\n",
       "      <td>NaN</td>\n",
       "      <td>NaN</td>\n",
       "      <td>none</td>\n",
       "      <td>12/15/2020</td>\n",
       "      <td>COVID19</td>\n",
       "      <td>PFIZER\\BIONTECH</td>\n",
       "      <td>1</td>\n",
       "    </tr>\n",
       "    <tr>\n",
       "      <th>214172</th>\n",
       "      <td>902440</td>\n",
       "      <td>12/15/2020</td>\n",
       "      <td>AZ</td>\n",
       "      <td>35</td>\n",
       "      <td>F</td>\n",
       "      <td>NaN</td>\n",
       "      <td>NaN</td>\n",
       "      <td>NaN</td>\n",
       "      <td>NaN</td>\n",
       "      <td>NaN</td>\n",
       "      <td>...</td>\n",
       "      <td>Y</td>\n",
       "      <td>0.0</td>\n",
       "      <td>2</td>\n",
       "      <td>NaN</td>\n",
       "      <td>NaN</td>\n",
       "      <td>NaN</td>\n",
       "      <td>12/15/2020</td>\n",
       "      <td>COVID19</td>\n",
       "      <td>PFIZER\\BIONTECH</td>\n",
       "      <td>1</td>\n",
       "    </tr>\n",
       "    <tr>\n",
       "      <th>214175</th>\n",
       "      <td>902446</td>\n",
       "      <td>12/15/2020</td>\n",
       "      <td>WV</td>\n",
       "      <td>55</td>\n",
       "      <td>F</td>\n",
       "      <td>NaN</td>\n",
       "      <td>NaN</td>\n",
       "      <td>NaN</td>\n",
       "      <td>NaN</td>\n",
       "      <td>NaN</td>\n",
       "      <td>...</td>\n",
       "      <td>Y</td>\n",
       "      <td>0.0</td>\n",
       "      <td>2</td>\n",
       "      <td>NaN</td>\n",
       "      <td>NaN</td>\n",
       "      <td>Contrast Dye IV contrast, shellfish, strawberry</td>\n",
       "      <td>12/15/2020</td>\n",
       "      <td>COVID19</td>\n",
       "      <td>PFIZER\\BIONTECH</td>\n",
       "      <td>1</td>\n",
       "    </tr>\n",
       "    <tr>\n",
       "      <th>214183</th>\n",
       "      <td>902464</td>\n",
       "      <td>12/15/2020</td>\n",
       "      <td>LA</td>\n",
       "      <td>42</td>\n",
       "      <td>M</td>\n",
       "      <td>NaN</td>\n",
       "      <td>NaN</td>\n",
       "      <td>NaN</td>\n",
       "      <td>NaN</td>\n",
       "      <td>NaN</td>\n",
       "      <td>...</td>\n",
       "      <td>Y</td>\n",
       "      <td>0.0</td>\n",
       "      <td>2</td>\n",
       "      <td>NaN</td>\n",
       "      <td>Y</td>\n",
       "      <td>none</td>\n",
       "      <td>12/15/2020</td>\n",
       "      <td>COVID19</td>\n",
       "      <td>PFIZER\\BIONTECH</td>\n",
       "      <td>UNK</td>\n",
       "    </tr>\n",
       "  </tbody>\n",
       "</table>\n",
       "<p>5 rows × 23 columns</p>\n",
       "</div>"
      ],
      "text/plain": [
       "        VAERS_ID    RECVDATE STATE  AGE_YRS SEX DIED DATEDIED L_THREAT  \\\n",
       "211596    896636  11/14/2020    SC       47   F  NaN      NaN      NaN   \n",
       "214170    902418  12/15/2020    NJ       56   F  NaN      NaN      NaN   \n",
       "214172    902440  12/15/2020    AZ       35   F  NaN      NaN      NaN   \n",
       "214175    902446  12/15/2020    WV       55   F  NaN      NaN      NaN   \n",
       "214183    902464  12/15/2020    LA       42   M  NaN      NaN      NaN   \n",
       "\n",
       "       ER_VISIT HOSPITAL  ...  RECOVD NUMDAYS FORM_VERS OFC_VISIT  \\\n",
       "211596      NaN      NaN  ...       N     4.0         2         Y   \n",
       "214170      NaN      NaN  ...       Y     0.0         2       NaN   \n",
       "214172      NaN      NaN  ...       Y     0.0         2       NaN   \n",
       "214175      NaN      NaN  ...       Y     0.0         2       NaN   \n",
       "214183      NaN      NaN  ...       Y     0.0         2       NaN   \n",
       "\n",
       "        ER_ED_VISIT                                        ALLERGIES  \\\n",
       "211596            Y                                     tetracycline   \n",
       "214170          NaN                                             none   \n",
       "214172          NaN                                              NaN   \n",
       "214175          NaN  Contrast Dye IV contrast, shellfish, strawberry   \n",
       "214183            Y                                             none   \n",
       "\n",
       "       REPORT_DATE VAX_TYPE         VAX_MANU VAX_DOSE_SERIES  \n",
       "211596  11/14/2020  COVID19          MODERNA             UNK  \n",
       "214170  12/15/2020  COVID19  PFIZER\\BIONTECH               1  \n",
       "214172  12/15/2020  COVID19  PFIZER\\BIONTECH               1  \n",
       "214175  12/15/2020  COVID19  PFIZER\\BIONTECH               1  \n",
       "214183  12/15/2020  COVID19  PFIZER\\BIONTECH             UNK  \n",
       "\n",
       "[5 rows x 23 columns]"
      ]
     },
     "execution_count": 3,
     "metadata": {},
     "output_type": "execute_result"
    }
   ],
   "source": [
    "# isolate the covid vaccine data\n",
    "covid_df = data_df.loc[data_df[\"VAX_TYPE\"] == \"COVID19\"]\n",
    "covid_df.head()"
   ]
  },
  {
   "cell_type": "code",
   "execution_count": 4,
   "id": "f785a7b4-efc6-4e68-8a84-a62fb9f18618",
   "metadata": {},
   "outputs": [
    {
     "data": {
      "text/plain": [
       "count    385931.000000\n",
       "mean         48.835699\n",
       "std          18.137543\n",
       "min          12.000000\n",
       "25%          35.000000\n",
       "50%          49.000000\n",
       "75%          63.000000\n",
       "max         119.000000\n",
       "Name: AGE_YRS, dtype: float64"
      ]
     },
     "execution_count": 4,
     "metadata": {},
     "output_type": "execute_result"
    }
   ],
   "source": [
    "# age distribution\n",
    "covid_df[\"AGE_YRS\"].describe()"
   ]
  },
  {
   "cell_type": "code",
   "execution_count": 5,
   "id": "3df81bca-0738-4c4e-83a2-3879b0b095a3",
   "metadata": {},
   "outputs": [
    {
     "data": {
      "text/plain": [
       "['12 to 20',\n",
       " '21 to 29',\n",
       " '30 to 38',\n",
       " '39 to 47',\n",
       " '48 to 56',\n",
       " '57 to 65',\n",
       " '66 to 74',\n",
       " '75 to 83',\n",
       " '84 to 92',\n",
       " '93 to 101',\n",
       " '102 to 110',\n",
       " '111 to 119']"
      ]
     },
     "execution_count": 5,
     "metadata": {},
     "output_type": "execute_result"
    }
   ],
   "source": [
    "# group into 9 year bins\n",
    "bins = list([np.arange(12, 128, 9)])[0]\n",
    "group_names = []\n",
    "\n",
    "for age in bins[0: -1]:\n",
    "    group_names.append(str(f\"{age} to {age + 8}\"))\n",
    "\n",
    "group_names"
   ]
  },
  {
   "cell_type": "code",
   "execution_count": 6,
   "id": "bad11e35-debd-4736-aae0-4f4314ef993b",
   "metadata": {},
   "outputs": [
    {
     "name": "stderr",
     "output_type": "stream",
     "text": [
      "<ipython-input-6-c492337f5d0e>:2: SettingWithCopyWarning: \n",
      "A value is trying to be set on a copy of a slice from a DataFrame.\n",
      "Try using .loc[row_indexer,col_indexer] = value instead\n",
      "\n",
      "See the caveats in the documentation: https://pandas.pydata.org/pandas-docs/stable/user_guide/indexing.html#returning-a-view-versus-a-copy\n",
      "  covid_df[\"Bins\"] = pd.cut(covid_df[\"AGE_YRS\"], bins, labels = group_names, include_lowest = True)\n"
     ]
    },
    {
     "data": {
      "text/html": [
       "<div>\n",
       "<style scoped>\n",
       "    .dataframe tbody tr th:only-of-type {\n",
       "        vertical-align: middle;\n",
       "    }\n",
       "\n",
       "    .dataframe tbody tr th {\n",
       "        vertical-align: top;\n",
       "    }\n",
       "\n",
       "    .dataframe thead th {\n",
       "        text-align: right;\n",
       "    }\n",
       "</style>\n",
       "<table border=\"1\" class=\"dataframe\">\n",
       "  <thead>\n",
       "    <tr style=\"text-align: right;\">\n",
       "      <th></th>\n",
       "      <th>Bins</th>\n",
       "      <th>OFC_VISIT</th>\n",
       "      <th>ER_VISIT</th>\n",
       "      <th>HOSPITAL</th>\n",
       "      <th>DIED</th>\n",
       "    </tr>\n",
       "  </thead>\n",
       "  <tbody>\n",
       "    <tr>\n",
       "      <th>211596</th>\n",
       "      <td>39 to 47</td>\n",
       "      <td>Y</td>\n",
       "      <td>NaN</td>\n",
       "      <td>NaN</td>\n",
       "      <td>NaN</td>\n",
       "    </tr>\n",
       "    <tr>\n",
       "      <th>214170</th>\n",
       "      <td>48 to 56</td>\n",
       "      <td>NaN</td>\n",
       "      <td>NaN</td>\n",
       "      <td>NaN</td>\n",
       "      <td>NaN</td>\n",
       "    </tr>\n",
       "    <tr>\n",
       "      <th>214172</th>\n",
       "      <td>30 to 38</td>\n",
       "      <td>NaN</td>\n",
       "      <td>NaN</td>\n",
       "      <td>NaN</td>\n",
       "      <td>NaN</td>\n",
       "    </tr>\n",
       "    <tr>\n",
       "      <th>214175</th>\n",
       "      <td>48 to 56</td>\n",
       "      <td>NaN</td>\n",
       "      <td>NaN</td>\n",
       "      <td>NaN</td>\n",
       "      <td>NaN</td>\n",
       "    </tr>\n",
       "    <tr>\n",
       "      <th>214183</th>\n",
       "      <td>39 to 47</td>\n",
       "      <td>NaN</td>\n",
       "      <td>NaN</td>\n",
       "      <td>NaN</td>\n",
       "      <td>NaN</td>\n",
       "    </tr>\n",
       "  </tbody>\n",
       "</table>\n",
       "</div>"
      ],
      "text/plain": [
       "            Bins OFC_VISIT ER_VISIT HOSPITAL DIED\n",
       "211596  39 to 47         Y      NaN      NaN  NaN\n",
       "214170  48 to 56       NaN      NaN      NaN  NaN\n",
       "214172  30 to 38       NaN      NaN      NaN  NaN\n",
       "214175  48 to 56       NaN      NaN      NaN  NaN\n",
       "214183  39 to 47       NaN      NaN      NaN  NaN"
      ]
     },
     "execution_count": 6,
     "metadata": {},
     "output_type": "execute_result"
    }
   ],
   "source": [
    "# assign bins based on age\n",
    "covid_df[\"Bins\"] = pd.cut(covid_df[\"AGE_YRS\"], bins, labels = group_names, include_lowest = True)\n",
    "\n",
    "# grab the categories of effect severity\n",
    "cols = [\"Bins\", \"OFC_VISIT\", \"ER_VISIT\", \"HOSPITAL\", \"DIED\"]\n",
    "agebins_df = covid_df[cols]\n",
    "agebins_df.head()"
   ]
  },
  {
   "cell_type": "code",
   "execution_count": 7,
   "id": "f7d4b668-8abe-41eb-aa20-6ff9dd1d319f",
   "metadata": {},
   "outputs": [
    {
     "data": {
      "text/html": [
       "<div>\n",
       "<style scoped>\n",
       "    .dataframe tbody tr th:only-of-type {\n",
       "        vertical-align: middle;\n",
       "    }\n",
       "\n",
       "    .dataframe tbody tr th {\n",
       "        vertical-align: top;\n",
       "    }\n",
       "\n",
       "    .dataframe thead th {\n",
       "        text-align: right;\n",
       "    }\n",
       "</style>\n",
       "<table border=\"1\" class=\"dataframe\">\n",
       "  <thead>\n",
       "    <tr style=\"text-align: right;\">\n",
       "      <th></th>\n",
       "      <th>OFC_VISIT</th>\n",
       "      <th>ER_VISIT</th>\n",
       "      <th>HOSPITAL</th>\n",
       "      <th>DIED</th>\n",
       "    </tr>\n",
       "    <tr>\n",
       "      <th>Bins</th>\n",
       "      <th></th>\n",
       "      <th></th>\n",
       "      <th></th>\n",
       "      <th></th>\n",
       "    </tr>\n",
       "  </thead>\n",
       "  <tbody>\n",
       "    <tr>\n",
       "      <th>12 to 20</th>\n",
       "      <td>3458</td>\n",
       "      <td>5</td>\n",
       "      <td>1279</td>\n",
       "      <td>34</td>\n",
       "    </tr>\n",
       "    <tr>\n",
       "      <th>21 to 29</th>\n",
       "      <td>8030</td>\n",
       "      <td>5</td>\n",
       "      <td>1177</td>\n",
       "      <td>52</td>\n",
       "    </tr>\n",
       "    <tr>\n",
       "      <th>30 to 38</th>\n",
       "      <td>13468</td>\n",
       "      <td>11</td>\n",
       "      <td>1762</td>\n",
       "      <td>108</td>\n",
       "    </tr>\n",
       "    <tr>\n",
       "      <th>39 to 47</th>\n",
       "      <td>13807</td>\n",
       "      <td>9</td>\n",
       "      <td>2043</td>\n",
       "      <td>171</td>\n",
       "    </tr>\n",
       "    <tr>\n",
       "      <th>48 to 56</th>\n",
       "      <td>13304</td>\n",
       "      <td>9</td>\n",
       "      <td>2625</td>\n",
       "      <td>295</td>\n",
       "    </tr>\n",
       "    <tr>\n",
       "      <th>57 to 65</th>\n",
       "      <td>12033</td>\n",
       "      <td>9</td>\n",
       "      <td>3753</td>\n",
       "      <td>714</td>\n",
       "    </tr>\n",
       "    <tr>\n",
       "      <th>66 to 74</th>\n",
       "      <td>9025</td>\n",
       "      <td>2</td>\n",
       "      <td>4094</td>\n",
       "      <td>1047</td>\n",
       "    </tr>\n",
       "    <tr>\n",
       "      <th>75 to 83</th>\n",
       "      <td>4013</td>\n",
       "      <td>2</td>\n",
       "      <td>3277</td>\n",
       "      <td>1136</td>\n",
       "    </tr>\n",
       "    <tr>\n",
       "      <th>84 to 92</th>\n",
       "      <td>1299</td>\n",
       "      <td>2</td>\n",
       "      <td>1605</td>\n",
       "      <td>987</td>\n",
       "    </tr>\n",
       "    <tr>\n",
       "      <th>93 to 101</th>\n",
       "      <td>212</td>\n",
       "      <td>0</td>\n",
       "      <td>253</td>\n",
       "      <td>301</td>\n",
       "    </tr>\n",
       "    <tr>\n",
       "      <th>102 to 110</th>\n",
       "      <td>1</td>\n",
       "      <td>0</td>\n",
       "      <td>4</td>\n",
       "      <td>11</td>\n",
       "    </tr>\n",
       "    <tr>\n",
       "      <th>111 to 119</th>\n",
       "      <td>1</td>\n",
       "      <td>0</td>\n",
       "      <td>0</td>\n",
       "      <td>0</td>\n",
       "    </tr>\n",
       "  </tbody>\n",
       "</table>\n",
       "</div>"
      ],
      "text/plain": [
       "            OFC_VISIT  ER_VISIT  HOSPITAL  DIED\n",
       "Bins                                           \n",
       "12 to 20         3458         5      1279    34\n",
       "21 to 29         8030         5      1177    52\n",
       "30 to 38        13468        11      1762   108\n",
       "39 to 47        13807         9      2043   171\n",
       "48 to 56        13304         9      2625   295\n",
       "57 to 65        12033         9      3753   714\n",
       "66 to 74         9025         2      4094  1047\n",
       "75 to 83         4013         2      3277  1136\n",
       "84 to 92         1299         2      1605   987\n",
       "93 to 101         212         0       253   301\n",
       "102 to 110          1         0         4    11\n",
       "111 to 119          1         0         0     0"
      ]
     },
     "execution_count": 7,
     "metadata": {},
     "output_type": "execute_result"
    }
   ],
   "source": [
    "# groupby bin and count each type of outcome\n",
    "age_data = pd.DataFrame(agebins_df.groupby(\"Bins\").count())\n",
    "age_data"
   ]
  },
  {
   "cell_type": "code",
   "execution_count": 8,
   "id": "c32e7c38-dfc6-4d73-9e50-c293b81a36a2",
   "metadata": {},
   "outputs": [
    {
     "data": {
      "text/plain": [
       "<AxesSubplot:title={'center':'Covid Office Visits'}, xlabel='Ages'>"
      ]
     },
     "execution_count": 8,
     "metadata": {},
     "output_type": "execute_result"
    },
    {
     "data": {
      "image/png": "[encoded data removed]",
      "text/plain": [
       "<Figure size 1440x432 with 1 Axes>"
      ]
     },
     "metadata": {
      "needs_background": "light"
     },
     "output_type": "display_data"
    }
   ],
   "source": [
    "age_data[\"OFC_VISIT\"].plot(kind = \"bar\", figsize = (20,6), title = \"Covid Office Visits\", xlabel = \"Ages\", rot = 45)"
   ]
  },
  {
   "cell_type": "code",
   "execution_count": 9,
   "id": "d55281ee-2de1-40ee-84b2-517f30d5305a",
   "metadata": {},
   "outputs": [
    {
     "data": {
      "text/plain": [
       "<AxesSubplot:title={'center':'Covid ER Visits'}, xlabel='Ages'>"
      ]
     },
     "execution_count": 9,
     "metadata": {},
     "output_type": "execute_result"
    },
    {
     "data": {
      "image/png": "[encoded data removed]",
      "text/plain": [
       "<Figure size 1440x432 with 1 Axes>"
      ]
     },
     "metadata": {
      "needs_background": "light"
     },
     "output_type": "display_data"
    }
   ],
   "source": [
    "age_data[\"ER_VISIT\"].plot(kind = \"bar\", figsize = (20,6), title = \"Covid ER Visits\", xlabel = \"Ages\", rot = 45)"
   ]
  },
  {
   "cell_type": "code",
   "execution_count": 10,
   "id": "0a4c8d6a-ef50-47ee-9d04-de939d08c75d",
   "metadata": {},
   "outputs": [
    {
     "data": {
      "text/plain": [
       "<AxesSubplot:title={'center':'Covid Hospitalizations'}, xlabel='Ages'>"
      ]
     },
     "execution_count": 10,
     "metadata": {},
     "output_type": "execute_result"
    },
    {
     "data": {
      "image/png": "[encoded data removed]",
      "text/plain": [
       "<Figure size 1440x432 with 1 Axes>"
      ]
     },
     "metadata": {
      "needs_background": "light"
     },
     "output_type": "display_data"
    }
   ],
   "source": [
    "age_data[\"HOSPITAL\"].plot(kind = \"bar\", figsize = (20,6), title = \"Covid Hospitalizations\", xlabel = \"Ages\", rot = 45)"
   ]
  },
  {
   "cell_type": "code",
   "execution_count": 11,
   "id": "c1857cbc-4f53-484b-91c5-d42366174a5c",
   "metadata": {},
   "outputs": [
    {
     "data": {
      "text/plain": [
       "<AxesSubplot:title={'center':'Covid Deaths'}, xlabel='Ages'>"
      ]
     },
     "execution_count": 11,
     "metadata": {},
     "output_type": "execute_result"
    },
    {
     "data": {
      "image/png": "[encoded data removed]",
      "text/plain": [
       "<Figure size 1440x432 with 1 Axes>"
      ]
     },
     "metadata": {
      "needs_background": "light"
     },
     "output_type": "display_data"
    }
   ],
   "source": [
    "age_data[\"DIED\"].plot(kind = \"bar\", figsize = (20,6), title = \"Covid Deaths\", xlabel = \"Ages\", rot = 45)"
   ]
  },
  {
   "cell_type": "code",
   "execution_count": null,
   "id": "70b4d232-e037-41a6-bf35-909ae070baae",
   "metadata": {},
   "outputs": [],
   "source": []
  }
 ],
 "metadata": {
  "kernelspec": {
   "display_name": "Python 3",
   "language": "python",
   "name": "python3"
  },
  "language_info": {
   "codemirror_mode": {
    "name": "ipython",
    "version": 3
   },
   "file_extension": ".py",
   "mimetype": "text/x-python",
   "name": "python",
   "nbconvert_exporter": "python",
   "pygments_lexer": "ipython3",
   "version": "3.9.5"
  }
 },
 "nbformat": 4,
 "nbformat_minor": 5
}
