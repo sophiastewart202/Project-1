{
 "cells": [
  {
   "cell_type": "code",
   "execution_count": 1,
   "id": "d0211d1b-e771-485a-aff1-05bcf5d54e69",
   "metadata": {},
   "outputs": [],
   "source": [
    "import pandas as pd"
   ]
  },
  {
   "cell_type": "code",
   "execution_count": 2,
   "id": "fcfcbd63-0efd-4569-b888-3425cdb88dc1",
   "metadata": {},
   "outputs": [],
   "source": [
    "data_df = pd.read_csv(\"clean_data.csv\", low_memory = False, index_col = \"Unnamed: 0\")"
   ]
  },
  {
   "cell_type": "code",
   "execution_count": 3,
   "id": "70a53b0d-a45b-41b6-8596-20145959ee01",
   "metadata": {},
   "outputs": [
    {
     "data": {
      "text/html": [
       "<div>\n",
       "<style scoped>\n",
       "    .dataframe tbody tr th:only-of-type {\n",
       "        vertical-align: middle;\n",
       "    }\n",
       "\n",
       "    .dataframe tbody tr th {\n",
       "        vertical-align: top;\n",
       "    }\n",
       "\n",
       "    .dataframe thead th {\n",
       "        text-align: right;\n",
       "    }\n",
       "</style>\n",
       "<table border=\"1\" class=\"dataframe\">\n",
       "  <thead>\n",
       "    <tr style=\"text-align: right;\">\n",
       "      <th></th>\n",
       "      <th>VAERS_ID</th>\n",
       "      <th>RECVDATE</th>\n",
       "      <th>STATE</th>\n",
       "      <th>AGE_YRS</th>\n",
       "      <th>SEX</th>\n",
       "      <th>DIED</th>\n",
       "      <th>DATEDIED</th>\n",
       "      <th>L_THREAT</th>\n",
       "      <th>ER_VISIT</th>\n",
       "      <th>HOSPITAL</th>\n",
       "      <th>...</th>\n",
       "      <th>RECOVD</th>\n",
       "      <th>NUMDAYS</th>\n",
       "      <th>FORM_VERS</th>\n",
       "      <th>OFC_VISIT</th>\n",
       "      <th>ER_ED_VISIT</th>\n",
       "      <th>ALLERGIES</th>\n",
       "      <th>REPORT_DATE</th>\n",
       "      <th>VAX_TYPE</th>\n",
       "      <th>VAX_MANU</th>\n",
       "      <th>VAX_DOSE_SERIES</th>\n",
       "    </tr>\n",
       "  </thead>\n",
       "  <tbody>\n",
       "    <tr>\n",
       "      <th>211596</th>\n",
       "      <td>896636</td>\n",
       "      <td>11/14/2020</td>\n",
       "      <td>SC</td>\n",
       "      <td>47</td>\n",
       "      <td>F</td>\n",
       "      <td>NaN</td>\n",
       "      <td>NaN</td>\n",
       "      <td>NaN</td>\n",
       "      <td>NaN</td>\n",
       "      <td>NaN</td>\n",
       "      <td>...</td>\n",
       "      <td>N</td>\n",
       "      <td>4.0</td>\n",
       "      <td>2</td>\n",
       "      <td>Y</td>\n",
       "      <td>Y</td>\n",
       "      <td>tetracycline</td>\n",
       "      <td>11/14/2020</td>\n",
       "      <td>COVID19</td>\n",
       "      <td>MODERNA</td>\n",
       "      <td>UNK</td>\n",
       "    </tr>\n",
       "    <tr>\n",
       "      <th>214170</th>\n",
       "      <td>902418</td>\n",
       "      <td>12/15/2020</td>\n",
       "      <td>NJ</td>\n",
       "      <td>56</td>\n",
       "      <td>F</td>\n",
       "      <td>NaN</td>\n",
       "      <td>NaN</td>\n",
       "      <td>NaN</td>\n",
       "      <td>NaN</td>\n",
       "      <td>NaN</td>\n",
       "      <td>...</td>\n",
       "      <td>Y</td>\n",
       "      <td>0.0</td>\n",
       "      <td>2</td>\n",
       "      <td>NaN</td>\n",
       "      <td>NaN</td>\n",
       "      <td>none</td>\n",
       "      <td>12/15/2020</td>\n",
       "      <td>COVID19</td>\n",
       "      <td>PFIZER\\BIONTECH</td>\n",
       "      <td>1</td>\n",
       "    </tr>\n",
       "    <tr>\n",
       "      <th>214172</th>\n",
       "      <td>902440</td>\n",
       "      <td>12/15/2020</td>\n",
       "      <td>AZ</td>\n",
       "      <td>35</td>\n",
       "      <td>F</td>\n",
       "      <td>NaN</td>\n",
       "      <td>NaN</td>\n",
       "      <td>NaN</td>\n",
       "      <td>NaN</td>\n",
       "      <td>NaN</td>\n",
       "      <td>...</td>\n",
       "      <td>Y</td>\n",
       "      <td>0.0</td>\n",
       "      <td>2</td>\n",
       "      <td>NaN</td>\n",
       "      <td>NaN</td>\n",
       "      <td>NaN</td>\n",
       "      <td>12/15/2020</td>\n",
       "      <td>COVID19</td>\n",
       "      <td>PFIZER\\BIONTECH</td>\n",
       "      <td>1</td>\n",
       "    </tr>\n",
       "    <tr>\n",
       "      <th>214175</th>\n",
       "      <td>902446</td>\n",
       "      <td>12/15/2020</td>\n",
       "      <td>WV</td>\n",
       "      <td>55</td>\n",
       "      <td>F</td>\n",
       "      <td>NaN</td>\n",
       "      <td>NaN</td>\n",
       "      <td>NaN</td>\n",
       "      <td>NaN</td>\n",
       "      <td>NaN</td>\n",
       "      <td>...</td>\n",
       "      <td>Y</td>\n",
       "      <td>0.0</td>\n",
       "      <td>2</td>\n",
       "      <td>NaN</td>\n",
       "      <td>NaN</td>\n",
       "      <td>Contrast Dye IV contrast, shellfish, strawberry</td>\n",
       "      <td>12/15/2020</td>\n",
       "      <td>COVID19</td>\n",
       "      <td>PFIZER\\BIONTECH</td>\n",
       "      <td>1</td>\n",
       "    </tr>\n",
       "    <tr>\n",
       "      <th>214183</th>\n",
       "      <td>902464</td>\n",
       "      <td>12/15/2020</td>\n",
       "      <td>LA</td>\n",
       "      <td>42</td>\n",
       "      <td>M</td>\n",
       "      <td>NaN</td>\n",
       "      <td>NaN</td>\n",
       "      <td>NaN</td>\n",
       "      <td>NaN</td>\n",
       "      <td>NaN</td>\n",
       "      <td>...</td>\n",
       "      <td>Y</td>\n",
       "      <td>0.0</td>\n",
       "      <td>2</td>\n",
       "      <td>NaN</td>\n",
       "      <td>Y</td>\n",
       "      <td>none</td>\n",
       "      <td>12/15/2020</td>\n",
       "      <td>COVID19</td>\n",
       "      <td>PFIZER\\BIONTECH</td>\n",
       "      <td>UNK</td>\n",
       "    </tr>\n",
       "  </tbody>\n",
       "</table>\n",
       "<p>5 rows × 23 columns</p>\n",
       "</div>"
      ],
      "text/plain": [
       "        VAERS_ID    RECVDATE STATE  AGE_YRS SEX DIED DATEDIED L_THREAT  \\\n",
       "211596    896636  11/14/2020    SC       47   F  NaN      NaN      NaN   \n",
       "214170    902418  12/15/2020    NJ       56   F  NaN      NaN      NaN   \n",
       "214172    902440  12/15/2020    AZ       35   F  NaN      NaN      NaN   \n",
       "214175    902446  12/15/2020    WV       55   F  NaN      NaN      NaN   \n",
       "214183    902464  12/15/2020    LA       42   M  NaN      NaN      NaN   \n",
       "\n",
       "       ER_VISIT HOSPITAL  ...  RECOVD NUMDAYS FORM_VERS OFC_VISIT  \\\n",
       "211596      NaN      NaN  ...       N     4.0         2         Y   \n",
       "214170      NaN      NaN  ...       Y     0.0         2       NaN   \n",
       "214172      NaN      NaN  ...       Y     0.0         2       NaN   \n",
       "214175      NaN      NaN  ...       Y     0.0         2       NaN   \n",
       "214183      NaN      NaN  ...       Y     0.0         2       NaN   \n",
       "\n",
       "        ER_ED_VISIT                                        ALLERGIES  \\\n",
       "211596            Y                                     tetracycline   \n",
       "214170          NaN                                             none   \n",
       "214172          NaN                                              NaN   \n",
       "214175          NaN  Contrast Dye IV contrast, shellfish, strawberry   \n",
       "214183            Y                                             none   \n",
       "\n",
       "       REPORT_DATE VAX_TYPE         VAX_MANU VAX_DOSE_SERIES  \n",
       "211596  11/14/2020  COVID19          MODERNA             UNK  \n",
       "214170  12/15/2020  COVID19  PFIZER\\BIONTECH               1  \n",
       "214172  12/15/2020  COVID19  PFIZER\\BIONTECH               1  \n",
       "214175  12/15/2020  COVID19  PFIZER\\BIONTECH               1  \n",
       "214183  12/15/2020  COVID19  PFIZER\\BIONTECH             UNK  \n",
       "\n",
       "[5 rows x 23 columns]"
      ]
     },
     "execution_count": 3,
     "metadata": {},
     "output_type": "execute_result"
    }
   ],
   "source": [
    "# isolate the covid vaccine data\n",
    "covid_df = data_df.loc[data_df[\"VAX_TYPE\"] == \"COVID19\"]\n",
    "covid_df.head()"
   ]
  },
  {
   "cell_type": "code",
   "execution_count": 4,
   "id": "25854d9a-745c-4377-b0fe-36449b415ae9",
   "metadata": {},
   "outputs": [
    {
     "data": {
      "text/plain": [
       "COVID19    385931\n",
       "VARZOS      50130\n",
       "FLU3        42037\n",
       "FLU4        21471\n",
       "PPV         17049\n",
       "            ...  \n",
       "DTAPH           1\n",
       "DTPHIB          1\n",
       "PLAGUE          1\n",
       "DTPHEP          1\n",
       "DTPIHI          1\n",
       "Name: VAX_TYPE, Length: 86, dtype: int64"
      ]
     },
     "execution_count": 4,
     "metadata": {},
     "output_type": "execute_result"
    }
   ],
   "source": [
    "data_df[\"VAX_TYPE\"].value_counts()"
   ]
  },
  {
   "cell_type": "code",
   "execution_count": 5,
   "id": "00758496-e193-4051-b010-488f88e5d429",
   "metadata": {},
   "outputs": [
    {
     "data": {
      "text/plain": [
       "F    277299\n",
       "M    106451\n",
       "U      2181\n",
       "Name: SEX, dtype: int64"
      ]
     },
     "execution_count": 5,
     "metadata": {},
     "output_type": "execute_result"
    }
   ],
   "source": [
    "# count female/male/undisclosed\n",
    "covid_df[\"SEX\"].value_counts()"
   ]
  },
  {
   "cell_type": "code",
   "execution_count": 6,
   "id": "36e49e0c-9914-49fd-be97-77994be10567",
   "metadata": {},
   "outputs": [],
   "source": [
    "# separate data by gender\n",
    "f_covid_df = covid_df.loc[covid_df[\"SEX\"] == \"F\"]\n",
    "m_covid_df = covid_df.loc[covid_df[\"SEX\"] == \"M\"]"
   ]
  },
  {
   "cell_type": "code",
   "execution_count": 7,
   "id": "71083840-9ead-4a06-8915-dcf02e018c00",
   "metadata": {},
   "outputs": [
    {
     "data": {
      "text/html": [
       "<div>\n",
       "<style scoped>\n",
       "    .dataframe tbody tr th:only-of-type {\n",
       "        vertical-align: middle;\n",
       "    }\n",
       "\n",
       "    .dataframe tbody tr th {\n",
       "        vertical-align: top;\n",
       "    }\n",
       "\n",
       "    .dataframe thead th {\n",
       "        text-align: right;\n",
       "    }\n",
       "</style>\n",
       "<table border=\"1\" class=\"dataframe\">\n",
       "  <thead>\n",
       "    <tr style=\"text-align: right;\">\n",
       "      <th></th>\n",
       "      <th>F</th>\n",
       "      <th>M</th>\n",
       "    </tr>\n",
       "  </thead>\n",
       "  <tbody>\n",
       "    <tr>\n",
       "      <th>OFC_VISIT</th>\n",
       "      <td>57260</td>\n",
       "      <td>21173</td>\n",
       "    </tr>\n",
       "    <tr>\n",
       "      <th>ER_VISIT</th>\n",
       "      <td>36</td>\n",
       "      <td>16</td>\n",
       "    </tr>\n",
       "    <tr>\n",
       "      <th>HOSPITAL</th>\n",
       "      <td>11611</td>\n",
       "      <td>10187</td>\n",
       "    </tr>\n",
       "    <tr>\n",
       "      <th>L_THREAT</th>\n",
       "      <td>3591</td>\n",
       "      <td>2946</td>\n",
       "    </tr>\n",
       "    <tr>\n",
       "      <th>DIED</th>\n",
       "      <td>2114</td>\n",
       "      <td>2718</td>\n",
       "    </tr>\n",
       "  </tbody>\n",
       "</table>\n",
       "</div>"
      ],
      "text/plain": [
       "               F      M\n",
       "OFC_VISIT  57260  21173\n",
       "ER_VISIT      36     16\n",
       "HOSPITAL   11611  10187\n",
       "L_THREAT    3591   2946\n",
       "DIED        2114   2718"
      ]
     },
     "execution_count": 7,
     "metadata": {},
     "output_type": "execute_result"
    }
   ],
   "source": [
    "# count the types of outcome for F and M\n",
    "outcomes_df = pd.DataFrame({\n",
    "    \"OFC_VISIT\": [len(f_covid_df.loc[f_covid_df[\"OFC_VISIT\"] == \"Y\"]), len(m_covid_df.loc[m_covid_df[\"OFC_VISIT\"] == \"Y\"])],\n",
    "    \"ER_VISIT\": [len(f_covid_df.loc[f_covid_df[\"ER_VISIT\"] == \"Y\"]), len(m_covid_df.loc[m_covid_df[\"ER_VISIT\"] == \"Y\"])],\n",
    "    \"HOSPITAL\": [len(f_covid_df.loc[f_covid_df[\"HOSPITAL\"] == \"Y\"]), len(m_covid_df.loc[m_covid_df[\"HOSPITAL\"] == \"Y\"])],\n",
    "    \"L_THREAT\": [len(f_covid_df.loc[f_covid_df[\"L_THREAT\"] == \"Y\"]), len(m_covid_df.loc[m_covid_df[\"L_THREAT\"] == \"Y\"])],\n",
    "    \"DIED\": [len(f_covid_df.loc[f_covid_df[\"DIED\"] == \"Y\"]), len(m_covid_df.loc[m_covid_df[\"DIED\"] == \"Y\"])]\n",
    "    \n",
    "}).rename(index = {0: \"F\", 1: \"M\"}).transpose()\n",
    "\n",
    "outcomes_df"
   ]
  },
  {
   "cell_type": "code",
   "execution_count": 8,
   "id": "7d629e40-235b-4c29-933e-7123df249cc5",
   "metadata": {},
   "outputs": [
    {
     "data": {
      "text/plain": [
       "<AxesSubplot:>"
      ]
     },
     "execution_count": 8,
     "metadata": {},
     "output_type": "execute_result"
    },
    {
     "data": {
      "image/png": "[encoded data removed]",
      "text/plain": [
       "<Figure size 720x432 with 1 Axes>"
      ]
     },
     "metadata": {
      "needs_background": "light"
     },
     "output_type": "display_data"
    }
   ],
   "source": [
    "outcomes_df.plot(kind = \"bar\",\n",
    "               figsize = (10, 6),\n",
    "               \n",
    "              )"
   ]
  },
  {
   "cell_type": "code",
   "execution_count": null,
   "id": "16880df4-6d5f-4340-803f-d7fc4ebaef5f",
   "metadata": {},
   "outputs": [],
   "source": []
  }
 ],
 "metadata": {
  "kernelspec": {
   "display_name": "Python 3",
   "language": "python",
   "name": "python3"
  },
  "language_info": {
   "codemirror_mode": {
    "name": "ipython",
    "version": 3
   },
   "file_extension": ".py",
   "mimetype": "text/x-python",
   "name": "python",
   "nbconvert_exporter": "python",
   "pygments_lexer": "ipython3",
   "version": "3.8.5"
  }
 },
 "nbformat": 4,
 "nbformat_minor": 5
}
